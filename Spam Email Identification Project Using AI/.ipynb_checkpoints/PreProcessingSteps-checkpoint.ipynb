{
 "cells": [
  {
   "cell_type": "code",
   "execution_count": 1,
   "id": "dd5c91e1-29cc-4f3f-bf79-b3cfd7963761",
   "metadata": {},
   "outputs": [],
   "source": [
    "# custom_preprocessing.py\n",
    "import string\n",
    "from nltk.corpus import stopwords\n",
    "\n",
    "def remove_subject(text):\n",
    "    return text.replace('Subject', '')\n",
    "\n",
    "def remove_punctuations(text):\n",
    "    punctuations_list = string.punctuation\n",
    "    temp = str.maketrans('', '', punctuations_list)\n",
    "    return text.translate(temp)\n",
    "\n",
    "#Removing Stopwords\n",
    "def remove_stopwords(text):\n",
    "    stop_words = stopwords.words('english')\n",
    " \n",
    "    imp_words = []\n",
    " \n",
    "    # Storing the important words\n",
    "    for word in str(text).split():\n",
    "        word = word.lower()\n",
    " \n",
    "        if word not in stop_words:\n",
    "            imp_words.append(word)\n",
    " \n",
    "    output = \" \".join(imp_words)\n",
    " \n",
    "    return output"
   ]
  },
  {
   "cell_type": "code",
   "execution_count": null,
   "id": "9ee2feb4-147f-4165-83b4-af7535789b14",
   "metadata": {},
   "outputs": [],
   "source": []
  }
 ],
 "metadata": {
  "kernelspec": {
   "display_name": "Python 3 (ipykernel)",
   "language": "python",
   "name": "python3"
  },
  "language_info": {
   "codemirror_mode": {
    "name": "ipython",
    "version": 3
   },
   "file_extension": ".py",
   "mimetype": "text/x-python",
   "name": "python",
   "nbconvert_exporter": "python",
   "pygments_lexer": "ipython3",
   "version": "3.11.6"
  }
 },
 "nbformat": 4,
 "nbformat_minor": 5
}
