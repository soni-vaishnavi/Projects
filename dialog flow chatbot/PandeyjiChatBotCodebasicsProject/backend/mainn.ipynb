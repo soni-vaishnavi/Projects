{
 "cells": [
  {
   "cell_type": "code",
   "execution_count": 1,
   "metadata": {},
   "outputs": [
    {
     "name": "stdout",
     "output_type": "stream",
     "text": [
      "Requirement already satisfied: fastapi in c:\\users\\dell\\anaconda3\\lib\\site-packages (0.115.6)\n",
      "Requirement already satisfied: starlette<0.42.0,>=0.40.0 in c:\\users\\dell\\anaconda3\\lib\\site-packages (from fastapi) (0.41.3)\n",
      "Requirement already satisfied: pydantic!=1.8,!=1.8.1,!=2.0.0,!=2.0.1,!=2.1.0,<3.0.0,>=1.7.4 in c:\\users\\dell\\anaconda3\\lib\\site-packages (from fastapi) (2.10.4)\n",
      "Requirement already satisfied: typing-extensions>=4.8.0 in c:\\users\\dell\\anaconda3\\lib\\site-packages (from fastapi) (4.12.2)\n",
      "Requirement already satisfied: annotated-types>=0.6.0 in c:\\users\\dell\\anaconda3\\lib\\site-packages (from pydantic!=1.8,!=1.8.1,!=2.0.0,!=2.0.1,!=2.1.0,<3.0.0,>=1.7.4->fastapi) (0.6.0)\n",
      "Requirement already satisfied: pydantic-core==2.27.2 in c:\\users\\dell\\anaconda3\\lib\\site-packages (from pydantic!=1.8,!=1.8.1,!=2.0.0,!=2.0.1,!=2.1.0,<3.0.0,>=1.7.4->fastapi) (2.27.2)\n",
      "Requirement already satisfied: anyio<5,>=3.4.0 in c:\\users\\dell\\anaconda3\\lib\\site-packages (from starlette<0.42.0,>=0.40.0->fastapi) (4.2.0)\n",
      "Requirement already satisfied: idna>=2.8 in c:\\users\\dell\\anaconda3\\lib\\site-packages (from anyio<5,>=3.4.0->starlette<0.42.0,>=0.40.0->fastapi) (3.7)\n",
      "Requirement already satisfied: sniffio>=1.1 in c:\\users\\dell\\anaconda3\\lib\\site-packages (from anyio<5,>=3.4.0->starlette<0.42.0,>=0.40.0->fastapi) (1.3.0)\n",
      "Note: you may need to restart the kernel to use updated packages.\n"
     ]
    }
   ],
   "source": [
    "%pip install fastapi\n"
   ]
  },
  {
   "cell_type": "code",
   "execution_count": 2,
   "metadata": {},
   "outputs": [],
   "source": [
    "from fastapi import FastAPI\n",
    "from fastapi import Request\n",
    "from fastapi.responses import JSONResponse"
   ]
  },
  {
   "cell_type": "code",
   "execution_count": 3,
   "metadata": {},
   "outputs": [
    {
     "ename": "",
     "evalue": "",
     "output_type": "error",
     "traceback": [
      "\u001b[1;31mThe Kernel crashed while executing code in the current cell or a previous cell. \n",
      "\u001b[1;31mPlease review the code in the cell(s) to identify a possible cause of the failure. \n",
      "\u001b[1;31mClick <a href='https://aka.ms/vscodeJupyterKernelCrash'>here</a> for more info. \n",
      "\u001b[1;31mView Jupyter <a href='command:jupyter.viewOutput'>log</a> for further details."
     ]
    }
   ],
   "source": [
    "import uvicorn"
   ]
  },
  {
   "cell_type": "code",
   "execution_count": null,
   "metadata": {},
   "outputs": [],
   "source": [
    "import db_helper\n",
    "import generic_helper\n",
    "\n",
    "app = FastAPI()\n",
    "\n",
    "inprogress_orders = {}\n",
    "\n",
    "@app.post(\"/\")\n",
    "async def handle_request(request: Request):\n",
    "    # Retrieve the JSON data from the request\n",
    "    payload = await request.json()\n",
    "\n",
    "    # Extract the necessary information from the payload\n",
    "    # based on the structure of the WebhookRequest from Dialogflow\n",
    "    intent = payload['queryResult']['intent']['displayName']\n",
    "    parameters = payload['queryResult']['parameters']\n",
    "    output_contexts = payload['queryResult']['outputContexts']\n",
    "    session_id = generic_helper.extract_session_id(output_contexts[0][\"name\"])\n",
    "\n",
    "    intent_handler_dict = {\n",
    "        'order.add - context: ongoing-order': add_to_order,\n",
    "        'order.remove - context: ongoing-order': remove_from_order,\n",
    "        'order.complete - context: ongoing-order': complete_order,\n",
    "        'track.order - context: ongoing-tracking': track_order\n",
    "    }\n",
    "\n",
    "    return intent_handler_dict[intent](parameters, session_id)\n",
    "\n",
    "def save_to_db(order: dict):\n",
    "    next_order_id = db_helper.get_next_order_id()\n",
    "\n",
    "    # Insert individual items along with quantity in orders table\n",
    "    for food_item, quantity in order.items():\n",
    "        rcode = db_helper.insert_order_item(\n",
    "            food_item,\n",
    "            quantity,\n",
    "            next_order_id\n",
    "        )\n",
    "\n",
    "        if rcode == -1:\n",
    "            return -1\n",
    "\n",
    "    # Now insert order tracking status\n",
    "    db_helper.insert_order_tracking(next_order_id, \"in progress\")\n",
    "\n",
    "    return next_order_id\n",
    "\n",
    "def complete_order(parameters: dict, session_id: str):\n",
    "    if session_id not in inprogress_orders:\n",
    "        fulfillment_text = \"I'm having a trouble finding your order. Sorry! Can you place a new order please?\"\n",
    "    else:\n",
    "        order = inprogress_orders[session_id]\n",
    "        order_id = save_to_db(order)\n",
    "        if order_id == -1:\n",
    "            fulfillment_text = \"Sorry, I couldn't process your order due to a backend error. \" \\\n",
    "                               \"Please place a new order again\"\n",
    "        else:\n",
    "            order_total = db_helper.get_total_order_price(order_id)\n",
    "\n",
    "            fulfillment_text = f\"Awesome. We have placed your order. \" \\\n",
    "                           f\"Here is your order id # {order_id}. \" \\\n",
    "                           f\"Your order total is {order_total} which you can pay at the time of delivery!\"\n",
    "\n",
    "        del inprogress_orders[session_id]\n",
    "\n",
    "    return JSONResponse(content={\n",
    "        \"fulfillmentText\": fulfillment_text\n",
    "    })\n",
    "\n",
    "\n",
    "def add_to_order(parameters: dict, session_id: str):\n",
    "    food_items = parameters[\"food-item\"]\n",
    "    quantities = parameters[\"number\"]\n",
    "\n",
    "    if len(food_items) != len(quantities):\n",
    "        fulfillment_text = \"Sorry I didn't understand. Can you please specify food items and quantities clearly?\"\n",
    "    else:\n",
    "        new_food_dict = dict(zip(food_items, quantities))\n",
    "\n",
    "        if session_id in inprogress_orders:\n",
    "            current_food_dict = inprogress_orders[session_id]\n",
    "            current_food_dict.update(new_food_dict)\n",
    "            inprogress_orders[session_id] = current_food_dict\n",
    "        else:\n",
    "            inprogress_orders[session_id] = new_food_dict\n",
    "\n",
    "        order_str = generic_helper.get_str_from_food_dict(inprogress_orders[session_id])\n",
    "        fulfillment_text = f\"So far you have: {order_str}. Do you need anything else?\"\n",
    "\n",
    "    return JSONResponse(content={\n",
    "        \"fulfillmentText\": fulfillment_text\n",
    "    })\n",
    "\n",
    "\n",
    "def remove_from_order(parameters: dict, session_id: str):\n",
    "    if session_id not in inprogress_orders:\n",
    "        return JSONResponse(content={\n",
    "            \"fulfillmentText\": \"I'm having a trouble finding your order. Sorry! Can you place a new order please?\"\n",
    "        })\n",
    "    \n",
    "    food_items = parameters[\"food-item\"]\n",
    "    current_order = inprogress_orders[session_id]\n",
    "\n",
    "    removed_items = []\n",
    "    no_such_items = []\n",
    "\n",
    "    for item in food_items:\n",
    "        if item not in current_order:\n",
    "            no_such_items.append(item)\n",
    "        else:\n",
    "            removed_items.append(item)\n",
    "            del current_order[item]\n",
    "\n",
    "    if len(removed_items) > 0:\n",
    "        fulfillment_text = f'Removed {\",\".join(removed_items)} from your order!'\n",
    "\n",
    "    if len(no_such_items) > 0:\n",
    "        fulfillment_text = f' Your current order does not have {\",\".join(no_such_items)}'\n",
    "\n",
    "    if len(current_order.keys()) == 0:\n",
    "        fulfillment_text += \" Your order is empty!\"\n",
    "    else:\n",
    "        order_str = generic_helper.get_str_from_food_dict(current_order)\n",
    "        fulfillment_text += f\" Here is what is left in your order: {order_str}\"\n",
    "\n",
    "    return JSONResponse(content={\n",
    "        \"fulfillmentText\": fulfillment_text\n",
    "    })\n",
    "\n",
    "\n",
    "def track_order(parameters: dict, session_id: str):\n",
    "    order_id = int(parameters['order_id'])\n",
    "    order_status = db_helper.get_order_status(order_id)\n",
    "    if order_status:\n",
    "        fulfillment_text = f\"The order status for order id: {order_id} is: {order_status}\"\n",
    "    else:\n",
    "        fulfillment_text = f\"No order found with order id: {order_id}\"\n",
    "\n",
    "    return JSONResponse(content={\n",
    "        \"fulfillmentText\": fulfillment_text\n",
    "    })"
   ]
  },
  {
   "cell_type": "code",
   "execution_count": 2,
   "metadata": {},
   "outputs": [
    {
     "ename": "SyntaxError",
     "evalue": "invalid syntax (2030742603.py, line 1)",
     "output_type": "error",
     "traceback": [
      "\u001b[1;36m  Cell \u001b[1;32mIn[2], line 1\u001b[1;36m\u001b[0m\n\u001b[1;33m    uvicorn mainn.ipynb:app --reload\u001b[0m\n\u001b[1;37m            ^\u001b[0m\n\u001b[1;31mSyntaxError\u001b[0m\u001b[1;31m:\u001b[0m invalid syntax\n"
     ]
    }
   ],
   "source": [
    "uvicorn mainn.ipynb:app --reload\n"
   ]
  },
  {
   "cell_type": "code",
   "execution_count": null,
   "metadata": {},
   "outputs": [],
   "source": []
  }
 ],
 "metadata": {
  "kernelspec": {
   "display_name": "base",
   "language": "python",
   "name": "python3"
  },
  "language_info": {
   "codemirror_mode": {
    "name": "ipython",
    "version": 3
   },
   "file_extension": ".py",
   "mimetype": "text/x-python",
   "name": "python",
   "nbconvert_exporter": "python",
   "pygments_lexer": "ipython3",
   "version": "3.12.4"
  }
 },
 "nbformat": 4,
 "nbformat_minor": 2
}
