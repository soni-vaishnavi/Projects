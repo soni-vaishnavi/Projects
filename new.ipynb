{
 "cells": [
  {
   "cell_type": "code",
   "execution_count": null,
   "metadata": {},
   "outputs": [],
   "source": [
    "import sys\n",
    "from networksecurity.logging import logger\n",
    "class NetworkSecurityException(Exception):\n",
    "    def __init__(self, error_message, error_details:sys):\n",
    "        self.error_message= error_message\n",
    "        _,_,exc_tb= error_details.exc_info()\n",
    "\n",
    "        self.lineno= exc_tb.tb_lineno\n",
    "        self.file_name = exc_tb.tb_frame.f_code.co_filename\n",
    "\n",
    "    def __str__(self):\n",
    "        return \"Error occured in python script name [{0}] line number [{1}] error message [{2}]\".format(\n",
    "            self.file_name, self.lineno, str(self.error_message)\n",
    "        )\n",
    "        \n",
    "if __name__=='__main__':\n",
    "    try:\n",
    "        a = 1/0\n",
    "        print(\"this will not be printed\", a)\n",
    "\n",
    "    except Exception as e:\n",
    "         raise NetworkSecurityException(e, sys)\n",
    "\n",
    "\n"
   ]
  },
  {
   "cell_type": "code",
   "execution_count": null,
   "metadata": {},
   "outputs": [],
   "source": [
    "import logging\n",
    "import os\n",
    "from datetime import datetime \n",
    "\n",
    "LOG_FILE = f\"{datetime.now().strftime('%m_%d_%Y_%H_%M_%S')}.log\"\n",
    "\n",
    "logs_path = os.path.join(os.getcwd(), \"logs\", LOG_FILE)\n",
    "os.makedirs(logs_path, exist_ok=True)\n",
    "\n",
    "LOG_FILE_PATH = os.path.join(logs_path, LOG_FILE)\n",
    "\n",
    "logging.basicConfig(\n",
    "\n",
    "    filename= LOG_FILE_PATH, \n",
    "    format= \"[ %(asctime)s ] %(lineno)d %(name)s  - %(levelname)a - %(message)s \",\n",
    "    level= logging.INFO\n",
    ")\n",
    "\n",
    "if __name__ == \"__main__\":\n",
    "         logging.info(\"Logging has started\")   "
   ]
  }
 ],
 "metadata": {
  "kernelspec": {
   "display_name": "base",
   "language": "python",
   "name": "python3"
  },
  "language_info": {
   "name": "python",
   "version": "3.12.4"
  }
 },
 "nbformat": 4,
 "nbformat_minor": 2
}
